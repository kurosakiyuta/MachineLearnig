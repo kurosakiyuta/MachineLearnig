{
  "nbformat": 4,
  "nbformat_minor": 0,
  "metadata": {
    "colab": {
      "name": "EMアルゴリズム.ipynb",
      "provenance": []
    },
    "kernelspec": {
      "name": "python3",
      "display_name": "Python 3"
    }
  },
  "cells": [
    {
      "cell_type": "markdown",
      "metadata": {
        "id": "j5FwLS7N4KhI",
        "colab_type": "text"
      },
      "source": [
        "#EMアルゴリズムを用いた混合モデル"
      ]
    },
    {
      "cell_type": "markdown",
      "metadata": {
        "id": "0JymMPYY3-s8",
        "colab_type": "text"
      },
      "source": [
        "##データの生成"
      ]
    },
    {
      "cell_type": "code",
      "metadata": {
        "id": "cjY7vjKyaq6b",
        "colab_type": "code",
        "colab": {}
      },
      "source": [
        "import numpy as np \n",
        "import math\n",
        "import matplotlib.pyplot as plt\n",
        "\n",
        "np.random.seed(0)\n",
        "\n",
        "def data_generate(n):\n",
        "  return (np.random.randn(n)\n",
        "  + np.where(np.random.rand(n) > 0.3, 2., -2.))"
      ],
      "execution_count": 0,
      "outputs": []
    },
    {
      "cell_type": "code",
      "metadata": {
        "id": "4xIAdsjhatnL",
        "colab_type": "code",
        "colab": {
          "base_uri": "https://localhost:8080/",
          "height": 281
        },
        "outputId": "66613989-d5a0-4d6b-8548-943a79514b26"
      },
      "source": [
        "aa = np.histogram(data_generate(1000), bins =50)\n",
        "a_bins = aa[1]\n",
        "a_hist = aa[0]\n",
        "X1 = []\n",
        "for i in range(1, len(a_bins)):\n",
        "    X1.append((a_bins[i-1]+a_bins[i])/2)\n",
        "plt.bar(X1,a_hist, width=0.05)"
      ],
      "execution_count": 81,
      "outputs": [
        {
          "output_type": "execute_result",
          "data": {
            "text/plain": [
              "<BarContainer object of 50 artists>"
            ]
          },
          "metadata": {
            "tags": []
          },
          "execution_count": 81
        },
        {
          "output_type": "display_data",
          "data": {
            "image/png": "[encoded data removed]",
            "text/plain": [
              "<Figure size 432x288 with 1 Axes>"
            ]
          },
          "metadata": {
            "tags": [],
            "needs_background": "light"
          }
        }
      ]
    },
    {
      "cell_type": "markdown",
      "metadata": {
        "id": "LW5h3Hwl4bIX",
        "colab_type": "text"
      },
      "source": [
        "##標準偏差の定義"
      ]
    },
    {
      "cell_type": "code",
      "metadata": {
        "id": "lndWiAOtbyKz",
        "colab_type": "code",
        "colab": {}
      },
      "source": [
        "def nomal_distribution(x , mu, dev):\n",
        "    c = (2 * math.pi * math.pow(dev, 2)) ** (-1/2)\n",
        "    a = (-(x-mu)**2)/(2 * (dev**2) )\n",
        "    return c * math.exp(a)"
      ],
      "execution_count": 0,
      "outputs": []
    },
    {
      "cell_type": "markdown",
      "metadata": {
        "id": "44ezs-kS4gXf",
        "colab_type": "text"
      },
      "source": [
        "##EM Algorithm"
      ]
    },
    {
      "cell_type": "code",
      "metadata": {
        "id": "1yLVln7NbUco",
        "colab_type": "code",
        "colab": {}
      },
      "source": [
        "def ita(xi, mu, dev, m = m):\n",
        "    s = 0\n",
        "    for i in range(m):\n",
        "        s += w[i] * nomal_distribution(xi, mu[i], dev[i])\n",
        "    n = []\n",
        "    for l in range(m):\n",
        "        n.append(w[l] * nomal_distribution(xi, mu[l], dev[l])/s)\n",
        "    return n #m行列\n",
        "\n",
        "def E (x, mu, dev, m = m, data_size = data_size):\n",
        "    Q = 0\n",
        "    for i in range(data_size):\n",
        "        for j in m:\n",
        "            Q += ita(x[i], mu, dev)[j] * ( math.ln(w[j]) + math.ln(nomal_distribution(xi, mu[j], dev[j])) )\n",
        "    \n",
        "    return Q\n",
        "\n",
        "def M(x, mu, dev, d,  m = m, data_size = data_size):\n",
        "    n = 0\n",
        "    a = 0\n",
        "    aa = 0\n",
        "    for i in range(data_size):\n",
        "        n += np.array(ita(x[i], mu, dev))\n",
        "        a += (np.array(ita(x[i], mu, dev)) * x[i])\n",
        "        aa += np.array(ita(x[i], mu, dev)) * (( x[i] - mu) ** 2) \n",
        "\n",
        "    w1 = (1/data_size)*n\n",
        "    mu1 = [ a[j]/n[j] for j in range(m) ] \n",
        "    dev1 = [math.sqrt( aa[j]/(d*n[j]) ) for j in range(m)]  \n",
        "\n",
        "    return w1, mu1, dev1"
      ],
      "execution_count": 0,
      "outputs": []
    },
    {
      "cell_type": "markdown",
      "metadata": {
        "id": "w7MbUS6L4oYH",
        "colab_type": "text"
      },
      "source": [
        "確率密度"
      ]
    },
    {
      "cell_type": "code",
      "metadata": {
        "id": "gHAg7A3nh_Jy",
        "colab_type": "code",
        "colab": {}
      },
      "source": [
        "def probability_distribution(xi, w1, mu1, dev1):\n",
        "    p = 0\n",
        "    pro = []\n",
        "    for j in range(m):\n",
        "        p +=  w1[j] * nomal_distribution(xi, mu1[j], dev1[j])\n",
        "    return p"
      ],
      "execution_count": 0,
      "outputs": []
    },
    {
      "cell_type": "markdown",
      "metadata": {
        "id": "5ebK8fqb4qLo",
        "colab_type": "text"
      },
      "source": [
        "実行"
      ]
    },
    {
      "cell_type": "code",
      "metadata": {
        "id": "BM31Y602jz4L",
        "colab_type": "code",
        "colab": {
          "base_uri": "https://localhost:8080/",
          "height": 334
        },
        "outputId": "886312b5-ce3a-4a69-8b26-7a647170e97d"
      },
      "source": [
        "epoc = 30\n",
        "m = 3\n",
        "data_size = 1000\n",
        "mu = np.random.uniform(-1, 1, m)\n",
        "w = [0.2,0.2,0.6]\n",
        "dev = np.random.uniform(-0.2, 0.2, m)\n",
        "x = data_generate(data_size)\n",
        "w1, mu1, dev1 =  M(x, mu, dev, 1)\n",
        "for num in range(epoc):\n",
        "    w1, mu1, dev1 = M(x, mu1, dev1, 1)\n",
        "\n",
        "xx = np.linspace(-10, 10, 100)\n",
        "pp0 = [probability_distribution(xx[i] ,w, mu, dev) for i in range(len(xx))]   \n",
        "pp = [probability_distribution(xx[i] ,w1, mu1, dev1) for i in range(len(xx))]   \n",
        "plt.scatter(xx,pp, c='red')\n",
        "#plt.scatter(xx,pp0, c = 'blue')"
      ],
      "execution_count": 149,
      "outputs": [
        {
          "output_type": "stream",
          "text": [
            "[0.19638427 0.20408856 0.59952717] [-0.20864659916110848, -2.273885274109241, 2.1556615225891553] [1.8621123067402683, 0.8603727052718289, 0.9780950980457128]\n",
            "[0.2, 0.2, 0.6] [-0.91476732 -0.22999418  0.79209372] [-0.19445269 -0.09442887 -0.03852254]\n"
          ],
          "name": "stdout"
        },
        {
          "output_type": "execute_result",
          "data": {
            "text/plain": [
              "<matplotlib.collections.PathCollection at 0x7f87516c1978>"
            ]
          },
          "metadata": {
            "tags": []
          },
          "execution_count": 149
        },
        {
          "output_type": "display_data",
          "data": {
            "image/png": "[encoded data removed]",
            "text/plain": [
              "<Figure size 432x288 with 1 Axes>"
            ]
          },
          "metadata": {
            "tags": [],
            "needs_background": "light"
          }
        }
      ]
    },
    {
      "cell_type": "code",
      "metadata": {
        "id": "9CCl9z30qnw8",
        "colab_type": "code",
        "colab": {}
      },
      "source": [
        ""
      ],
      "execution_count": 0,
      "outputs": []
    }
  ]
}