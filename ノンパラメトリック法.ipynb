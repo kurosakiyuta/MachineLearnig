{
  "nbformat": 4,
  "nbformat_minor": 0,
  "metadata": {
    "colab": {
      "name": "ノンパラメトリック法.ipynb",
      "provenance": []
    },
    "kernelspec": {
      "name": "python3",
      "display_name": "Python 3"
    }
  },
  "cells": [
    {
      "cell_type": "markdown",
      "metadata": {
        "id": "uUQ4fE7I9Fl6",
        "colab_type": "text"
      },
      "source": [
        "#課題１"
      ]
    },
    {
      "cell_type": "markdown",
      "metadata": {
        "id": "frq49a9a9KuG",
        "colab_type": "text"
      },
      "source": [
        "##乱数生成"
      ]
    },
    {
      "cell_type": "code",
      "metadata": {
        "id": "bacv0H6P9o6H",
        "colab_type": "code",
        "colab": {}
      },
      "source": [
        "import numpy as np\n",
        "import matplotlib.pyplot as plt\n",
        "import math\n",
        "from scipy.io import loadmat"
      ],
      "execution_count": 0,
      "outputs": []
    },
    {
      "cell_type": "code",
      "metadata": {
        "id": "LJKw_0699B2h",
        "colab_type": "code",
        "colab": {}
      },
      "source": [
        "\n",
        "\n",
        "np.random.seed(0)\n",
        "\n",
        "\n",
        "def data_generate(n=3000):\n",
        "    x = np.zeros(n)\n",
        "    u = np.random.rand(n)\n",
        "    index1 = np.where((0 <= u) & (u < 1 / 8))\n",
        "    x[index1] = np.sqrt(8 * u[index1])\n",
        "    index2 = np.where((1 / 8 <= u) & (u < 1 / 4))\n",
        "    x[index2] = 2 - np.sqrt(2 - 8 * u[index2])\n",
        "    index3 = np.where((1 / 4 <= u) & (u < 1 / 2))\n",
        "    x[index3] = 1 + 4 * u[index3]\n",
        "    index4 = np.where((1 / 2 <= u) & (u < 3 / 4))\n",
        "    x[index4] = 3 + np.sqrt(4 * u[index4] - 2)\n",
        "    index5 = np.where((3 / 4 <= u) & (u <= 1))\n",
        "    x[index5] = 5 - np.sqrt(4 - 4 * u[index5])\n",
        "\n",
        "    return x"
      ],
      "execution_count": 0,
      "outputs": []
    },
    {
      "cell_type": "code",
      "metadata": {
        "id": "pbSkvmXy-w4m",
        "colab_type": "code",
        "outputId": "5133450a-e80c-4903-de91-ee32e208e359",
        "colab": {
          "base_uri": "https://localhost:8080/",
          "height": 33
        }
      },
      "source": [
        "data_generate(3)"
      ],
      "execution_count": 0,
      "outputs": [
        {
          "output_type": "execute_result",
          "data": {
            "text/plain": [
              "array([3.44187557, 3.92777016, 3.64113454])"
            ]
          },
          "metadata": {
            "tags": []
          },
          "execution_count": 5
        }
      ]
    },
    {
      "cell_type": "code",
      "metadata": {
        "id": "i6msDbxI9T0M",
        "colab_type": "code",
        "outputId": "6b8ecc71-0321-40fa-b651-a43f1710cefa",
        "colab": {
          "base_uri": "https://localhost:8080/",
          "height": 281
        }
      },
      "source": [
        "aa = np.histogram(data_generate(3000), bins =50)\n",
        "a_bins = aa[1]\n",
        "a_hist = aa[0]\n",
        "X1 = []\n",
        "for i in range(1, len(a_bins)):\n",
        "    X1.append((a_bins[i-1]+a_bins[i])/2)\n",
        "plt.bar(X1,a_hist, width=0.05)"
      ],
      "execution_count": 0,
      "outputs": [
        {
          "output_type": "execute_result",
          "data": {
            "text/plain": [
              "<BarContainer object of 50 artists>"
            ]
          },
          "metadata": {
            "tags": []
          },
          "execution_count": 6
        },
        {
          "output_type": "display_data",
          "data": {
            "image/png": "[encoded data removed]",
            "text/plain": [
              "<Figure size 432x288 with 1 Axes>"
            ]
          },
          "metadata": {
            "tags": [],
            "needs_background": "light"
          }
        }
      ]
    },
    {
      "cell_type": "markdown",
      "metadata": {
        "id": "hbM9C3kA9wAW",
        "colab_type": "text"
      },
      "source": [
        "*  以下のデータを用いて，ガウスカーネルに対するカーネル密度推定法を実行せよ\n",
        "*  バンド幅は尤度交差確認により決定せよ"
      ]
    },
    {
      "cell_type": "code",
      "metadata": {
        "id": "gkfG8IO3fZEJ",
        "colab_type": "code",
        "colab": {}
      },
      "source": [
        "N = 10000\n",
        "h = 0.7"
      ],
      "execution_count": 0,
      "outputs": []
    },
    {
      "cell_type": "code",
      "metadata": {
        "id": "DCzGnmVadsKa",
        "colab_type": "code",
        "colab": {}
      },
      "source": [
        "def window(x):\n",
        "    if abs(x) < 1/2:\n",
        "        y = 1\n",
        "    else:\n",
        "        y = 0\n",
        "    return (y)"
      ],
      "execution_count": 0,
      "outputs": []
    },
    {
      "cell_type": "code",
      "metadata": {
        "id": "qVFXw8ojjQxg",
        "colab_type": "code",
        "colab": {}
      },
      "source": [
        "def p(x , h = h, x_data =data_generate(N)):\n",
        "    f = 0\n",
        "    for xi in x_data:\n",
        "        f += window((x - xi)/h)\n",
        "    return f/(N*h)"
      ],
      "execution_count": 0,
      "outputs": []
    },
    {
      "cell_type": "code",
      "metadata": {
        "id": "s50Kok0dkdjl",
        "colab_type": "code",
        "outputId": "8bf63ce8-c463-40ef-88a1-66a282bcc1e9",
        "colab": {
          "base_uri": "https://localhost:8080/",
          "height": 281
        }
      },
      "source": [
        "xx = np.linspace(0, 5, 1000)\n",
        "pp = [p(xi) for xi in xx ]\n",
        "plt.plot(xx, pp)"
      ],
      "execution_count": 0,
      "outputs": [
        {
          "output_type": "execute_result",
          "data": {
            "text/plain": [
              "[<matplotlib.lines.Line2D at 0x7f38f775a748>]"
            ]
          },
          "metadata": {
            "tags": []
          },
          "execution_count": 11
        },
        {
          "output_type": "display_data",
          "data": {
            "image/png": "[encoded data removed]",
            "text/plain": [
              "<Figure size 432x288 with 1 Axes>"
            ]
          },
          "metadata": {
            "tags": [],
            "needs_background": "light"
          }
        }
      ]
    },
    {
      "cell_type": "markdown",
      "metadata": {
        "id": "_ajgoiKKucK6",
        "colab_type": "text"
      },
      "source": [
        "##交差確認"
      ]
    },
    {
      "cell_type": "code",
      "metadata": {
        "id": "mRi58Z3kuf_O",
        "colab_type": "code",
        "colab": {}
      },
      "source": [
        "T, t , T_temp = list(), 100, []\n",
        "x = (data_generate(N)).tolist()\n",
        "for i in range(N):\n",
        "    l = i+1\n",
        "    if (l) % (N/t)  == 0:\n",
        "        if l == N:\n",
        "            T.append(T_temp)\n",
        "        else:\n",
        "            T_temp.append(x[l])\n",
        "            T.append(T_temp)\n",
        "            T_temp = []\n",
        "    else:\n",
        "        T_temp.append(x[l])\n",
        "        if i == N:\n",
        "            T.append(T_temp)\n",
        " "
      ],
      "execution_count": 0,
      "outputs": []
    },
    {
      "cell_type": "code",
      "metadata": {
        "id": "rUxZZXhMxZTq",
        "colab_type": "code",
        "colab": {}
      },
      "source": [
        "def Cross_Validation(T, h, t = 100,  N = 10000):   \n",
        "    LCV = 0\n",
        "    for i in range(t):\n",
        "        T_kousa = []\n",
        "        for l in range(t):\n",
        "            if i != l:\n",
        "                T_kousa.extend(T[l])\n",
        "#        for mm in range(len(T[i])):\n",
        "#            print(p(T[i][mm], h = h, x_data = T_kousa))\n",
        "#            print(math.log(p(T[i][mm], h = h, x_data = T_kousa)))\n",
        "        pp = [math.log(p(T[i][j], h = h, x_data = T_kousa)) for j in range(len(T[i])) if p(T[i][j], h = h, x_data = T_kousa) != 0]\n",
        "        LCV+= sum(pp)/(len(T[i]) * t)\n",
        "    \n",
        "    return LCV"
      ],
      "execution_count": 0,
      "outputs": []
    },
    {
      "cell_type": "code",
      "metadata": {
        "id": "-s362g163cMW",
        "colab_type": "code",
        "outputId": "a9581c14-fc92-47cb-9a98-967411c569ad",
        "colab": {
          "base_uri": "https://localhost:8080/",
          "height": 264
        }
      },
      "source": [
        "for h_temp in range(10):\n",
        "    h = (h_temp + 1)/100\n",
        "    LCV = Cross_Validation(T, h)\n",
        "    plt.scatter(h, LCV, color = 'red')"
      ],
      "execution_count": 0,
      "outputs": [
        {
          "output_type": "display_data",
          "data": {
            "image/png": "[encoded data removed]",
            "text/plain": [
              "<Figure size 432x288 with 1 Axes>"
            ]
          },
          "metadata": {
            "tags": [],
            "needs_background": "light"
          }
        }
      ]
    },
    {
      "cell_type": "code",
      "metadata": {
        "id": "oAqd6MWW6xWA",
        "colab_type": "code",
        "colab": {}
      },
      "source": [
        "LCV = Cross_Validation(T, 0.01)"
      ],
      "execution_count": 0,
      "outputs": []
    },
    {
      "cell_type": "code",
      "metadata": {
        "id": "sVROQDmQ7wZx",
        "colab_type": "code",
        "outputId": "1381b34b-2033-4135-cb04-fc82db224131",
        "colab": {
          "base_uri": "https://localhost:8080/",
          "height": 281
        }
      },
      "source": [
        "xx = np.linspace(0, 5, 1000)\n",
        "pp = [p(xi, 0.07) for xi in xx ]\n",
        "plt.plot(xx, pp)"
      ],
      "execution_count": 0,
      "outputs": [
        {
          "output_type": "execute_result",
          "data": {
            "text/plain": [
              "[<matplotlib.lines.Line2D at 0x7f38f4e49470>]"
            ]
          },
          "metadata": {
            "tags": []
          },
          "execution_count": 15
        },
        {
          "output_type": "display_data",
          "data": {
            "image/png": "[encoded data removed]",
            "text/plain": [
              "<Figure size 432x288 with 1 Axes>"
            ]
          },
          "metadata": {
            "tags": [],
            "needs_background": "light"
          }
        }
      ]
    },
    {
      "cell_type": "markdown",
      "metadata": {
        "id": "Gl_mJ2HzEbrW",
        "colab_type": "text"
      },
      "source": [
        "#課題2"
      ]
    },
    {
      "cell_type": "code",
      "metadata": {
        "id": "2TQX4WDv-gL6",
        "colab_type": "code",
        "outputId": "4f95e5d3-eb13-4aa0-998c-356fd76bb6df",
        "colab": {
          "base_uri": "https://localhost:8080/",
          "height": 50
        }
      },
      "source": [
        "data = loadmat('digit.mat')\n",
        "train = data['X']\n",
        "test = data['T']\n",
        "print(train[0].shape)\n",
        "print(test.shape)"
      ],
      "execution_count": 0,
      "outputs": [
        {
          "output_type": "stream",
          "text": [
            "(500, 10)\n",
            "(256, 200, 10)\n"
          ],
          "name": "stdout"
        }
      ]
    },
    {
      "cell_type": "code",
      "metadata": {
        "id": "dymO7qJHoykm",
        "colab_type": "code",
        "outputId": "3267dea4-cbef-4904-f7f3-d4731fa704e5",
        "colab": {
          "base_uri": "https://localhost:8080/",
          "height": 50
        }
      },
      "source": [
        "print(\"Train data: {}\".format(train.shape))\n",
        "print(\"Test data:  {}\".format(test.shape))"
      ],
      "execution_count": 0,
      "outputs": [
        {
          "output_type": "stream",
          "text": [
            "Train data: (256, 500, 10)\n",
            "Test data:  (256, 200, 10)\n"
          ],
          "name": "stdout"
        }
      ]
    },
    {
      "cell_type": "code",
      "metadata": {
        "id": "QqZlUsuatNHt",
        "colab_type": "code",
        "outputId": "53d8d926-68a1-4b07-9799-46ab42c43f2f",
        "colab": {
          "base_uri": "https://localhost:8080/",
          "height": 297
        }
      },
      "source": [
        "x=train[:, 26, 8]\n",
        "print(x.shape)\n",
        "plt.imshow(x.reshape(16, 16), 'gray')"
      ],
      "execution_count": 0,
      "outputs": [
        {
          "output_type": "stream",
          "text": [
            "(256,)\n"
          ],
          "name": "stdout"
        },
        {
          "output_type": "execute_result",
          "data": {
            "text/plain": [
              "<matplotlib.image.AxesImage at 0x7f38f77b29b0>"
            ]
          },
          "metadata": {
            "tags": []
          },
          "execution_count": 18
        },
        {
          "output_type": "display_data",
          "data": {
            "image/png": "[encoded data removed]",
            "text/plain": [
              "<Figure size 432x288 with 1 Axes>"
            ]
          },
          "metadata": {
            "tags": [],
            "needs_background": "light"
          }
        }
      ]
    },
    {
      "cell_type": "code",
      "metadata": {
        "id": "UUkRbNL4yC_y",
        "colab_type": "code",
        "outputId": "ad32e9c0-4e0f-4a2b-ccd3-0bbf11c39b29",
        "colab": {
          "base_uri": "https://localhost:8080/",
          "height": 66
        }
      },
      "source": [
        "a = np.array([1,2,3]).reshape(1,3)\n",
        "b = np.array([4,5,6]).reshape(1,3)\n",
        "print(a.shape, b.shape)\n",
        "print(np.append(a, b, axis = 0))"
      ],
      "execution_count": 0,
      "outputs": [
        {
          "output_type": "stream",
          "text": [
            "(1, 3) (1, 3)\n",
            "[[1 2 3]\n",
            " [4 5 6]]\n"
          ],
          "name": "stdout"
        }
      ]
    },
    {
      "cell_type": "code",
      "metadata": {
        "id": "P3ghUQ8U2uIT",
        "colab_type": "code",
        "outputId": "7e9d060d-86aa-46bb-a94f-f3fa3d4c182f",
        "colab": {
          "base_uri": "https://localhost:8080/",
          "height": 33
        }
      },
      "source": [
        "for i in range(10):\n",
        "    for j in range(200):\n",
        "        if i == 0 and j == 0:\n",
        "            x_test = test[:, j, i].reshape(1,256)\n",
        "        else:\n",
        "            x_temp = test[:, j, i].reshape(1,256)\n",
        "            x_test = np.append(x_test,(x_temp), axis = 0)\n",
        "print(x_test.shape)"
      ],
      "execution_count": 0,
      "outputs": [
        {
          "output_type": "stream",
          "text": [
            "(2000, 256)\n"
          ],
          "name": "stdout"
        }
      ]
    },
    {
      "cell_type": "code",
      "metadata": {
        "id": "tTtrev5tuIzB",
        "colab_type": "code",
        "outputId": "6dbf80ef-55d1-4981-e1ba-9349d9919658",
        "colab": {
          "base_uri": "https://localhost:8080/",
          "height": 150
        }
      },
      "source": [
        "for i in range(10):\n",
        "    for j in range(500):\n",
        "        if i == 0 and j == 0:\n",
        "            x_train = train[:, j, i].reshape(1,256)\n",
        "            y_train = np.eye(10)[i].reshape(1,10)\n",
        "            x_test = test[:, j, i].reshape(1,256)\n",
        "            y = i\n",
        "        else:\n",
        "            x_temp = train[:, j, i].reshape(1,256)\n",
        "            x_train = np.append(x_train,(x_temp), axis = 0)\n",
        "            y_temp = np.eye(10)[i].reshape(1,10)\n",
        "            y_train = np.append(y_train, (y_temp), axis = 0)\n",
        "            y_ = i\n",
        "            y = np.append(y, i)\n",
        "\n",
        "print(x_train.shape)\n",
        "print(y_train)"
      ],
      "execution_count": 0,
      "outputs": [
        {
          "output_type": "stream",
          "text": [
            "(5000, 256)\n",
            "[[1. 0. 0. ... 0. 0. 0.]\n",
            " [1. 0. 0. ... 0. 0. 0.]\n",
            " [1. 0. 0. ... 0. 0. 0.]\n",
            " ...\n",
            " [0. 0. 0. ... 0. 0. 1.]\n",
            " [0. 0. 0. ... 0. 0. 1.]\n",
            " [0. 0. 0. ... 0. 0. 1.]]\n"
          ],
          "name": "stdout"
        }
      ]
    },
    {
      "cell_type": "code",
      "metadata": {
        "id": "njnUOQwR9s4I",
        "colab_type": "code",
        "colab": {}
      },
      "source": [
        "def knn(train_x, train_y, test_x, k_list):\n",
        "    print(x_train.shape)\n",
        "    train_x = train_x.astype(np.float32)\n",
        "    test_x = test_x.astype(np.float32)\n",
        "    print(x_train[:, None].shape)\n",
        "    print(train_x[None].shape)\n",
        "#    dist_matrix = np.sqrt(np.sum((train_x[None] - test_x[:, None]) ** 2,axis=2))\n",
        "    dist_matrix = np.sqrt(np.sum((train_x - test_x) ** 2))\n",
        "    sorted_index_matrix = np.argsort(dist_matrix)\n",
        "    ret_matrix = None\n",
        "    print(sorted_index_matrix)     \n",
        "    for k in k_list:\n",
        "        knn_label = train_y[sorted_index_matrix[:, :k]]\n",
        "   \n",
        "        label_sum_matrix = None\n",
        "        for i in range(10):\n",
        "            predict = np.sum(np.where(knn_label == i, 1, 0), axis=1)[:, None]\n",
        "            if label_sum_matrix is None:\n",
        "                label_sum_matrix = predict\n",
        " #               print(k, predict)\n",
        "            else:\n",
        "                label_sum_matrix = np.concatenate([label_sum_matrix,\n",
        "                                                   predict], axis=1)\n",
        "\n",
        "        if ret_matrix is None:\n",
        "            ret_matrix = np.argmax(label_sum_matrix, axis=1)[None]\n",
        "        else:\n",
        "            ret_matrix = np.concatenate([ret_matrix, np.argmax(\n",
        "                label_sum_matrix, axis=1)[None]], axis=0)\n",
        "    return ret_matrix  # ret_matrix.shape == (len(k_list), len(test_x))\n"
      ],
      "execution_count": 0,
      "outputs": []
    },
    {
      "cell_type": "code",
      "metadata": {
        "id": "SRQaO4VN0sVs",
        "colab_type": "code",
        "outputId": "10d4b858-9ceb-40c4-9b3b-9777fb5a361a",
        "colab": {
          "base_uri": "https://localhost:8080/",
          "height": 348
        }
      },
      "source": [
        "knn(x_train, y_train, x_test, [0,1,2,3,4,5,6,7,8,9])"
      ],
      "execution_count": 0,
      "outputs": [
        {
          "output_type": "stream",
          "text": [
            "(5000, 256)\n",
            "(5000, 1, 256)\n",
            "(1, 5000, 256)\n",
            "[0]\n"
          ],
          "name": "stdout"
        },
        {
          "output_type": "error",
          "ename": "IndexError",
          "evalue": "ignored",
          "traceback": [
            "\u001b[0;31m---------------------------------------------------------------------------\u001b[0m",
            "\u001b[0;31mIndexError\u001b[0m                                Traceback (most recent call last)",
            "\u001b[0;32m<ipython-input-94-6e4bf41fd551>\u001b[0m in \u001b[0;36m<module>\u001b[0;34m()\u001b[0m\n\u001b[0;32m----> 1\u001b[0;31m \u001b[0mknn\u001b[0m\u001b[0;34m(\u001b[0m\u001b[0mx_train\u001b[0m\u001b[0;34m,\u001b[0m \u001b[0my_train\u001b[0m\u001b[0;34m,\u001b[0m \u001b[0mx_test\u001b[0m\u001b[0;34m,\u001b[0m \u001b[0;34m[\u001b[0m\u001b[0;36m0\u001b[0m\u001b[0;34m,\u001b[0m\u001b[0;36m1\u001b[0m\u001b[0;34m,\u001b[0m\u001b[0;36m2\u001b[0m\u001b[0;34m,\u001b[0m\u001b[0;36m3\u001b[0m\u001b[0;34m,\u001b[0m\u001b[0;36m4\u001b[0m\u001b[0;34m,\u001b[0m\u001b[0;36m5\u001b[0m\u001b[0;34m,\u001b[0m\u001b[0;36m6\u001b[0m\u001b[0;34m,\u001b[0m\u001b[0;36m7\u001b[0m\u001b[0;34m,\u001b[0m\u001b[0;36m8\u001b[0m\u001b[0;34m,\u001b[0m\u001b[0;36m9\u001b[0m\u001b[0;34m]\u001b[0m\u001b[0;34m)\u001b[0m\u001b[0;34m\u001b[0m\u001b[0;34m\u001b[0m\u001b[0m\n\u001b[0m",
            "\u001b[0;32m<ipython-input-93-2a7e96a5268b>\u001b[0m in \u001b[0;36mknn\u001b[0;34m(train_x, train_y, test_x, k_list)\u001b[0m\n\u001b[1;32m     11\u001b[0m     \u001b[0mprint\u001b[0m\u001b[0;34m(\u001b[0m\u001b[0msorted_index_matrix\u001b[0m\u001b[0;34m)\u001b[0m\u001b[0;34m\u001b[0m\u001b[0;34m\u001b[0m\u001b[0m\n\u001b[1;32m     12\u001b[0m     \u001b[0;32mfor\u001b[0m \u001b[0mk\u001b[0m \u001b[0;32min\u001b[0m \u001b[0mk_list\u001b[0m\u001b[0;34m:\u001b[0m\u001b[0;34m\u001b[0m\u001b[0;34m\u001b[0m\u001b[0m\n\u001b[0;32m---> 13\u001b[0;31m         \u001b[0mknn_label\u001b[0m \u001b[0;34m=\u001b[0m \u001b[0mtrain_y\u001b[0m\u001b[0;34m[\u001b[0m\u001b[0msorted_index_matrix\u001b[0m\u001b[0;34m[\u001b[0m\u001b[0;34m:\u001b[0m\u001b[0;34m,\u001b[0m \u001b[0;34m:\u001b[0m\u001b[0mk\u001b[0m\u001b[0;34m]\u001b[0m\u001b[0;34m]\u001b[0m\u001b[0;34m\u001b[0m\u001b[0;34m\u001b[0m\u001b[0m\n\u001b[0m\u001b[1;32m     14\u001b[0m \u001b[0;34m\u001b[0m\u001b[0m\n\u001b[1;32m     15\u001b[0m         \u001b[0mlabel_sum_matrix\u001b[0m \u001b[0;34m=\u001b[0m \u001b[0;32mNone\u001b[0m\u001b[0;34m\u001b[0m\u001b[0;34m\u001b[0m\u001b[0m\n",
            "\u001b[0;31mIndexError\u001b[0m: too many indices for array"
          ]
        }
      ]
    },
    {
      "cell_type": "code",
      "metadata": {
        "id": "HRsdmR6C3F55",
        "colab_type": "code",
        "outputId": "75b24474-b7c0-4771-83a9-08d30846e960",
        "colab": {
          "base_uri": "https://localhost:8080/",
          "height": 33
        }
      },
      "source": [
        "y"
      ],
      "execution_count": 0,
      "outputs": [
        {
          "output_type": "execute_result",
          "data": {
            "text/plain": [
              "array([0, 0, 0, ..., 9, 9, 9])"
            ]
          },
          "metadata": {
            "tags": []
          },
          "execution_count": 27
        }
      ]
    },
    {
      "cell_type": "code",
      "metadata": {
        "id": "aq7fl88ajR4x",
        "colab_type": "code",
        "colab": {}
      },
      "source": [
        ""
      ],
      "execution_count": 0,
      "outputs": []
    }
  ]
}