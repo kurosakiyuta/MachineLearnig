{
  "nbformat": 4,
  "nbformat_minor": 0,
  "metadata": {
    "colab": {
      "name": "独立成分分析.ipynb",
      "provenance": [],
      "collapsed_sections": []
    },
    "kernelspec": {
      "name": "python3",
      "display_name": "Python 3"
    }
  },
  "cells": [
    {
      "cell_type": "markdown",
      "metadata": {
        "id": "n1X4PIJEOGwC",
        "colab_type": "text"
      },
      "source": [
        "#独立成分分析"
      ]
    },
    {
      "cell_type": "code",
      "metadata": {
        "id": "cS03ckPIfK-_",
        "colab_type": "code",
        "outputId": "d3e05e33-2eb8-43d7-d85e-dde6c3841700",
        "colab": {
          "base_uri": "https://localhost:8080/",
          "height": 268
        }
      },
      "source": [
        "import numpy as np\n",
        "from scipy.linalg import sqrtm\n",
        "import math\n",
        "import matplotlib.pyplot as plt\n",
        "\n",
        "\n",
        "def generate_data(n=1000):\n",
        "    global M, b\n",
        "    x = np.concatenate([np.random.rand(n, 1), np.random.randn(n, 1)], axis=1)\n",
        "    x[0, 1] = 6   # outlier\n",
        "    x = (x - np.mean(x, axis=0)) / np.std(x, axis=0)  # Standardization\n",
        "    M = np.array([[1, 3], [5, 3]])\n",
        "    x = x.dot(M.T)\n",
        "    x = np.linalg.inv(sqrtm(np.cov(x, rowvar=False))).dot(x.T).T\n",
        "    b  = np.random.uniform(0.08, -0.08, size= (2, 1))\n",
        "    return x\n",
        "\n",
        "X = generate_data()\n",
        "\n",
        "for i in range(X.shape[0]):\n",
        "  plt.scatter(generate_data()[i][0], generate_data()[i][1], color= 'red')\n",
        "plt.show()"
      ],
      "execution_count": 33,
      "outputs": [
        {
          "output_type": "display_data",
          "data": {
            "image/png": "[encoded data removed]",
            "text/plain": [
              "<Figure size 432x288 with 1 Axes>"
            ]
          },
          "metadata": {
            "tags": [],
            "needs_background": "light"
          }
        }
      ]
    },
    {
      "cell_type": "code",
      "metadata": {
        "id": "AMiCGyuAf05Q",
        "colab_type": "code",
        "colab": {}
      },
      "source": [
        "def g_s_3_dif(s):\n",
        "  return 3 * (s**2)\n",
        "\n",
        "def g_tan_dif (s):\n",
        "  return 1 - (math.tanh(s))**2\n",
        "\n",
        "def g_s_3 (s):\n",
        "  return s**3\n",
        "\n",
        "def g_tan (s):\n",
        "  return math.tanh(s)"
      ],
      "execution_count": 0,
      "outputs": []
    },
    {
      "cell_type": "markdown",
      "metadata": {
        "id": "Prd4TszTOMvj",
        "colab_type": "text"
      },
      "source": [
        "##球状化"
      ]
    },
    {
      "cell_type": "code",
      "metadata": {
        "id": "e5BiuB_oh55F",
        "colab_type": "code",
        "outputId": "a99688f9-dd62-4d95-8214-1e4a0a72af35",
        "colab": {
          "base_uri": "https://localhost:8080/",
          "height": 53
        }
      },
      "source": [
        "#xの球状か\n",
        "def kyujouka ():\n",
        "  X_= []\n",
        "  for i in range(X.shape[0]):\n",
        "    x0, x1 = 0, 0\n",
        "    n =X.shape[0]\n",
        "    for j in range(X.shape[0]):\n",
        "      x0 += X[j][0]\n",
        "      x1 += X[j][1]\n",
        "    x_ = (X[i] - [x0/n, x1/n])\n",
        "    X_.append(x_.tolist())\n",
        "  X_ = np.array(X_)\n",
        "#   X_.append(x_)\n",
        "  global X__\n",
        "  X__ = []\n",
        "  for l in range(X_.shape[0]):\n",
        "    a = np.matmul(X_[l], X_[l].T)/n\n",
        "    aa = 1/math.sqrt(a)\n",
        "    x__ = aa*X_[l]\n",
        "    X__.append(x__)\n",
        "  return X__\n",
        "X__ = kyujouka()\n",
        "print((X__))"
      ],
      "execution_count": 47,
      "outputs": [
        {
          "output_type": "stream",
          "text": [
            "[array([29.51733323, 11.34579388]), array([-2.99491699, 31.48063646]), array([ 12.80903881, -28.91242855]), array([ 7.25263355, 30.77985228]), array([ 9.89245465, 30.03563452]), array([-31.62231457,  -0.17094196]), array([-31.40953902,  -3.66617763]), array([31.5016039 , -2.76567379]), array([-30.82869017,  -7.042149  ]), array([-19.92906455, -24.5526452 ]), array([-26.24544431, -17.64019991]), array([-17.00614924, -26.66066181]), array([-28.85073575,  12.94739537]), array([-28.47916292, -13.74544577]), array([-27.27777036, -15.99760121]), array([-31.01840151,   6.15294787]), array([-26.32544584,  17.52058508]), array([30.30361093, -9.03831647]), array([-17.64971615, -26.23904571]), array([-23.95615321,  20.64225578]), array([ 25.38193086, -18.86153721]), array([-30.03971436,   9.88005878]), array([13.664986  , 28.51785682]), array([ 24.33054404, -20.19961947]), array([ 20.8061153 , -23.81397838]), array([30.52075153,  8.27548946]), array([-11.72233919,  29.36982744]), array([  6.87986697, -30.86531112]), array([ 6.36193966, 30.97621222]), array([-14.12946252,  28.29060425]), array([31.58618517,  1.52082428]), array([-31.48183386,  -2.98230391]), array([ 21.75336338, -22.95193198]), array([-26.59531812, -17.10815753]), array([-23.23705367, -21.44852761]), array([-11.81475082, -29.33277455]), array([-19.59000791,  24.82401237]), array([ 23.50606986, -21.15336095]), array([30.36599843,  8.82644544]), array([-30.22013968,  -9.31360068]), array([ 16.39392628, -27.04143452]), array([ -5.56150573, -31.12988362]), array([ 4.81754669, 31.25365969]), array([ -3.44181603, -31.43491534]), array([-23.71378082, -20.92024377]), array([ 11.65061701, -29.39835239]), array([-6.65372566, 30.91484975]), array([  1.46918662, -31.58862914]), array([-31.51710595,  -2.58302777]), array([-31.56055407,   1.98278265]), array([ 2.27422085, 31.54089281]), array([20.30614873, 24.24170629]), array([-15.67761011,  27.46293031]), array([-12.75771072,  28.93511391]), array([ -7.62945516, -30.68862027]), array([ 13.28594411, -28.69640551]), array([ 20.93067413, -23.7045751 ]), array([-26.95450313, -16.53646761]), array([31.61362774, -0.76061883]), array([ 21.96933881, -22.74528857]), array([-20.48226593, -24.09308578]), array([ -7.65939613, -30.68116117]), array([-23.39941826,  21.271277  ]), array([-19.12454416,  25.18435647]), array([24.93360876, 19.45032529]), array([ 6.8836636 , 30.86446461]), array([ 13.10479076, -28.77958407]), array([-26.3051603 ,  17.55102679]), array([-23.39387658, -21.27737151]), array([-24.32744633, -20.2033501 ]), array([-23.90026468, -20.70693961]), array([-18.14650043,  25.89796367]), array([-9.7392752 , 30.08565304]), array([-12.68092996, -28.9688456 ]), array([30.41905722, -8.6418145 ]), array([ 28.40620012, -13.89560344]), array([ 16.88795217, -26.7356891 ]), array([-23.96540336,  20.63151574]), array([ 25.68293904, -18.44957025]), array([ 10.94766835, -29.66729778]), array([-31.24703313,  -4.86034164]), array([-30.82428317,   7.06141397]), array([-28.03672704,  14.62675414]), array([  0.38990453, -31.62037278]), array([ 17.44535546, -26.3753592 ]), array([ 2.65862339, 31.51081912]), array([-11.83708929, -29.3237671 ]), array([  2.47079129, -31.52610332]), array([-6.35810455, 30.97699964]), array([ 13.30910962, -28.68566892]), array([-11.47846385,  29.46599511]), array([10.98226511, 29.65450814]), array([ 22.55012399, -22.16961677]), array([-31.57478536,  -1.74153079]), array([24.98357908, 19.3860975 ]), array([  2.97609988, -31.48242096]), array([-23.83888603,  20.77757236]), array([ -7.21605354, -30.78844867]), array([-20.34855337, -24.20612269]), array([ 15.44165645, -27.59629044]), array([-11.13660426,  29.5968925 ]), array([-23.60632834, -21.04141778]), array([ 17.63470803, -26.2491347 ]), array([-9.3267274 , 30.21609101]), array([-29.20347318,  12.13083485]), array([30.98514111, -6.31830914]), array([-1.29513342, 31.59624391]), array([-30.03483584,  -9.89487929]), array([-30.80910669,  -7.12733786]), array([-24.40269654, -20.11239423]), array([17.68211466, 26.21722375]), array([-31.56139571,  -1.96934015]), array([-30.35462364,   8.86548495]), array([ -3.2003153 , -31.46041929]), array([-31.33857587,  -4.2300901 ]), array([-28.34686321,  14.01625293]), array([ 25.17926749, -19.13124378]), array([ 7.74893255, 30.65866997]), array([ -5.65271528, -31.11345063]), array([-28.96474212,  12.6903    ]), array([-30.73882299,   7.42460513]), array([  7.55422326, -30.70722571]), array([-19.55585087,  24.85092949]), array([-31.37482688,  -3.95224468]), array([27.08078197, 16.32884711]), array([ 21.46618087, -23.22074673]), array([-29.85020164,  10.4386523 ]), array([-29.73326985,  10.76720316]), array([26.80829326, 16.77245995]), array([30.85307247, -6.93454537]), array([ 7.10985754, 30.81314534]), array([ 20.45046635, -24.12008346]), array([31.12922074, -5.56521483]), array([-3.99051703, 31.36998205]), array([ 27.53353044, -15.55328587]), array([-28.45191242,  13.80176364]), array([ -0.38171306, -31.62047272]), array([25.06439187, 19.28150047]), array([30.69991611,  7.58387438]), array([ 7.68009476, 30.67598645]), array([ -8.89025857, -30.34737719]), array([ -7.77355206, -30.65243691]), array([  4.57121616, -31.2906373 ]), array([-26.8568141 , -16.69465593]), array([-18.85760183, -25.3848548 ]), array([-4.98350045, 31.22762756]), array([ 5.79724537, 31.08684523]), array([-24.98910674,  19.37897171]), array([31.33156543, -4.28170619]), array([ 8.03647478, 30.58455612]), array([-26.05769696,  17.91637322]), array([ 27.06542989, -16.35428093]), array([ 19.21586756, -25.11474535]), array([-31.22168906,  -5.02057088]), array([-8.69766731, 30.40313443]), array([ 7.60033865, 30.69584422]), array([-31.17134685,  -5.32420283]), array([ -0.36674739, -31.62064984]), array([ 25.66059012, -18.48064163]), array([-24.77004261, -19.65820412]), array([30.56058246, -8.12716431]), array([-30.78722856,  -7.22125735]), array([ 12.18281998, -29.18182478]), array([28.3714762 , 13.96636453]), array([-30.9412379 ,  -6.52991555]), array([25.91178746, 18.12675565]), array([ -5.90648846, -31.06627422]), array([ -9.17284409, -30.26316129]), array([ 29.57203962, -11.20243155]), array([-21.58282897,  23.11236668]), array([ 11.65423234, -29.39691937]), array([-8.68259091, 30.40744342]), array([ 3.15192987, 31.46530372]), array([-17.58093055,  26.28518368]), array([-10.51757211, -29.8224861 ]), array([ 1.02309548, 31.6062221 ]), array([-31.59793587,  -1.25317545]), array([31.62269451, -0.0720536 ]), array([19.77314343, 24.67838728]), array([ 19.67212889, -24.75898514]), array([-8.98856293, 30.3184059 ]), array([-11.70915432, -29.37508647]), array([-30.51900477,   8.28192898]), array([-18.21645843,  25.8488035 ]), array([ 27.12577196, -16.25399937]), array([-25.49374727,  18.71012694]), array([-19.84612134,  24.61973736]), array([31.49591342,  2.82974162]), array([ -4.4449565 , -31.30882243]), array([-28.95910044, -12.70316896]), array([-0.75326785, 31.61380375]), array([-29.39941243, -11.64794184]), array([  1.01663748, -31.60643049]), array([-16.14381376,  27.19149274]), array([  1.32219868, -31.59512289]), array([31.6223567 , -0.16296167]), array([15.01657721, 27.82988338]), array([ 27.79373672, -15.08337493]), array([-25.28960368,  18.98515066]), array([  6.30088625, -30.98868878]), array([-25.83956061,  18.22956685]), array([-20.38531288,  24.1751736 ]), array([-28.1953715,  14.3185553]), array([ 23.05041639, -21.64897929]), array([ -4.11025075, -31.35451863]), array([-23.31638248,  21.36226365]), array([-30.61106366,   7.93490906]), array([ -2.98827987, -31.48126718]), array([14.58401416, 28.05898307]), array([-11.74962688, -29.35892144]), array([ 21.44769836, -23.23781906]), array([-13.78884086, -28.45817752]), array([-18.31603351,  25.778342  ]), array([-20.0354304 ,  24.46592587]), array([ -3.42639745, -31.4365997 ]), array([ 28.53897111, -13.62083434]), array([-10.69113129, -29.76070751]), array([ 24.45130117, -20.05327582]), array([-18.50194668,  25.64523287]), array([31.40773967,  3.68156068]), array([-21.09477621,  23.55865905]), array([22.22912907, 22.49146106]), array([ 23.8158698 , -20.80395025]), array([-27.09307678,  16.30843925]), array([-17.96825793,  26.02194664]), array([31.36416464,  4.03598519]), array([-20.62769241, -23.96869429]), array([ 26.85134522, -16.70345054]), array([30.40100889, -8.70509382]), array([27.19963134, 16.1300978 ]), array([-19.90578068,  24.57152612]), array([16.32625059, 27.08234742]), array([17.3716267 , 26.42397748]), array([30.94658152, -6.50454396]), array([-30.74592432,   7.39514284]), array([-16.78045511, -26.80328947]), array([  0.75849606, -31.61367874]), array([-15.63689142, -27.48613517]), array([ 21.10156372, -23.55257966]), array([-14.42860064,  28.13921612]), array([31.56108001,  1.97439315]), array([-29.36692972, -11.7295967 ]), array([30.30806189,  9.02337989]), array([ 24.05870809, -20.52263543]), array([-13.44646603, -28.62153999]), array([ 2.13443959, 31.55066034]), array([-13.23760546,  28.71873607]), array([ 16.35849006, -27.06288608]), array([31.01457885,  6.17218753]), array([-11.30957999, -29.53122755]), array([ -3.97877203, -31.37147388]), array([-30.50590149,   8.33006449]), array([-22.8111277 ,  21.90096923]), array([ -6.85731277, -30.87032979]), array([ 17.44744677, -26.37397583]), array([-28.86430785,  12.91711005]), array([  4.91454936, -31.23855318]), array([-23.94777927,  20.65197008]), array([  2.33788068, -31.53623811]), array([-19.42058872, -24.95677731]), array([ -9.02081901, -30.3088242 ]), array([17.41631393, 26.39454506]), array([-17.50853793,  26.3334597 ]), array([-14.43243984, -28.1372472 ]), array([-16.63157375,  26.8959245 ]), array([27.5399951 , 15.54183612]), array([30.96012723,  6.43976102]), array([  4.6582412 , -31.27780026]), array([-12.82626431, -28.90479102]), array([-30.18859191,   9.41535547]), array([-22.16678746, -22.55290522]), array([18.07649875, 25.94687251]), array([-29.08629031, -12.4091787 ]), array([31.4649981 , -3.15497934]), array([ 1.1422211 , 31.60214124]), array([ -5.98646515, -31.0509619 ]), array([ -0.2479642, -31.6218044]), array([28.93904642, 12.74878788]), array([  6.52105389, -30.94310676]), array([ 15.45353801, -27.58963869]), array([ 27.54230513, -15.53774205]), array([19.23346866, 25.10126856]), array([25.52032188, 18.67386332]), array([30.66468701, -7.72508709]), array([ 28.24379392, -14.22280229]), array([22.67522181, 22.04164958]), array([-10.76544531,  29.73390636]), array([-15.11918966, -27.77427054]), array([ -3.83148261, -31.38980314]), array([ 6.19474957, 31.01008026]), array([ -7.14751847, -30.80443117]), array([10.48814225, 29.83284888]), array([-3.50880373, 31.42750859]), array([15.29664827, 27.67693176]), array([-19.79176467,  24.66345578]), array([-15.43308586, -27.60108442]), array([31.32373054,  4.33865245]), array([ 20.75219823, -23.86097794]), array([ 27.66289101, -15.32202535]), array([-28.73636387,  13.19929512]), array([19.24413056, 25.09309545]), array([-21.02926714, -23.61715316]), array([ -6.85320009, -30.87124307]), array([ 11.92961044, -29.28624924]), array([ -4.95680592, -31.23187595]), array([-31.5560678 ,   2.05294545]), array([ 20.8937135, -23.7371594]), array([-21.03498655, -23.61205923]), array([-6.69567243, 30.90579186]), array([ 26.18680731, -17.72712957]), array([ 24.77550025, -19.65132533]), array([ 10.19943109, -29.93278479]), array([-31.53815424,   2.31188825]), array([ 1.07756098, 31.60441207]), array([-14.23514107, -28.23757707]), array([ 26.57887223, -17.13369636]), array([ -8.49419597, -30.46060792]), array([ 23.51895233, -21.1390369 ]), array([-20.40527139, -24.15832982]), array([ 6.46427413, 30.95501833]), array([-15.71199134,  27.44327473]), array([-14.82383605,  27.93302498]), array([ 20.65361457, -23.946361  ]), array([-31.39512574,   3.78762189]), array([-17.10838974, -26.59516875]), array([ 8.74731171, 30.3888884 ]), array([-22.66868685, -22.04837038]), array([-13.61592865, -28.54131194]), array([-25.9722101 ,  18.04007491]), array([-17.55683948,  26.3012811 ]), array([ 29.66084674, -10.96513433]), array([-30.35090918,  -8.87819307]), array([-26.61070878,  17.08420844]), array([30.31410651,  9.00305207]), array([31.59223762, -1.38943226]), array([-20.87628803,  23.75248615]), array([-31.49410146,   2.84983737]), array([ 26.26618905, -17.60929621]), array([-3.05564718, 31.47479977]), array([-15.22268602,  27.71768082]), array([ 16.52614628, -26.9608325 ]), array([24.59928354, 19.87146822]), array([-30.44856287,   8.53727236]), array([ 20.99940131, -23.64371258]), array([ 29.86409633, -10.39883408]), array([ 21.83261853, -22.87655499]), array([ -2.04182957, -31.556789  ]), array([  0.44835674, -31.61959798]), array([ 27.76307034, -15.13974654]), array([-28.2763348 , -14.15799739]), array([ 24.83848251, -19.57165774]), array([-10.12163771, -29.95917973]), array([-16.52857392, -26.95934428]), array([ -0.59335361, -31.61720942]), array([-29.21499854,  12.10305171]), array([  6.71601554, -30.90137756]), array([ 7.85559144, 30.63151454]), array([ 14.40557803, -28.15100925]), array([-10.33535961, -29.8861229 ]), array([14.42676712, 28.14015619]), array([ 15.96677509, -27.29582557]), array([31.13403573,  5.53821445]), array([-18.58583597, -25.58450119]), array([-24.05616095,  20.52562108]), array([-19.26759278,  25.07508461]), array([ 28.31983102, -14.07079141]), array([-27.67796039,  15.29478697]), array([ 3.59975855, 31.41722041]), array([ -9.35177912, -30.20834698]), array([ 28.05598091, -14.58978874]), array([31.25022947,  4.8397477 ]), array([-30.59924353,   7.98036936]), array([31.53465264, -2.35916999]), array([10.68648592, 29.76237589]), array([26.93280871, 16.57177767]), array([-22.256318  ,  22.46455673]), array([24.74224124, 19.69318406]), array([30.3877278 , -8.75134269]), array([ 3.24299768, 31.45604816]), array([ 18.96872216, -25.30192838]), array([-9.05037592, 30.30001148]), array([-20.9625942 ,  23.67635201]), array([31.39070151, -3.82411538]), array([-24.17084007,  20.39045095]), array([ 29.68750056, -10.89276413]), array([-30.28347776,   9.10554638]), array([-6.74354677, 30.89538116]), array([20.99312493, 23.64928552]), array([31.24158226, -4.89525665]), array([ 7.81549646, 30.64176912]), array([-29.2034019 , -12.13100644]), array([-10.85252892, -29.70223251]), array([-19.65472728, -24.77280152]), array([ 3.19105782, 31.46135963]), array([-26.5864339 , -17.12196054]), array([27.13236986, 16.24298328]), array([-29.53977738,  11.28722962]), array([22.05331652, 22.66387501]), array([ 25.2585735 , -19.02641492]), array([29.97115347, 10.08612708]), array([16.33016614, 27.07998659]), array([-28.83693703, -12.97809935]), array([10.62783068, 29.78337145]), array([-27.84614586,  14.98639919]), array([-12.1858726 ,  29.18055018]), array([-25.86230135, -18.19729016]), array([  3.09170241, -31.47127859]), array([-8.19379315, 30.54278563]), array([ 22.01906677, -22.69715177]), array([31.55311037, -2.09790996]), array([-24.79193049,  19.63059303]), array([  1.15639361, -31.60162581]), array([25.35834547, 18.89323464]), array([-25.14659332, -19.17417129]), array([-28.9148361 ,  12.80360314]), array([ 19.64190317, -24.78297076]), array([-25.95205767,  18.06905373]), array([ 28.37022974, -13.96889632]), array([ 29.61605379, -11.08554725]), array([-30.04074299,   9.87693074]), array([ 26.53433718, -17.20258558]), array([-20.93436886,  23.70131221]), array([20.69789263, 23.9080999 ]), array([31.54882259, -2.16143317]), array([-21.23275127, -23.4343823 ]), array([15.80898138, 27.38751737]), array([31.25888867,  4.78350074]), array([-12.30295356,  29.13138057]), array([ 21.36059722, -23.31790913]), array([30.97841749,  6.35119277]), array([-15.26354617,  27.695201  ]), array([ 19.37650931, -24.99101613]), array([-12.80742907,  28.91314166]), array([24.22376418, 20.32754901]), array([ -5.99735809, -31.04885982]), array([-26.50429391, -17.24883777]), array([-26.53214782,  17.2059621 ]), array([ 0.08057408, 31.62267395]), array([31.47975166, -3.00420291]), array([-11.00241771,  29.64703703]), array([-9.74789949, 30.08285983]), array([-28.66336931,  13.35706778]), array([30.30095861,  9.0472044 ]), array([-10.79638434,  29.72268637]), array([ -5.46920952, -31.14623167]), array([ 12.48254536, -29.05488016]), array([ 5.22319409, 31.18843124]), array([ -2.03934983, -31.55694935]), array([-5.95308973, 31.05737791]), array([ 13.43808641, -28.62547526]), array([25.40725382, 18.82741228]), array([-30.45819507,   8.50284382]), array([ 27.58862787, -15.45534251]), array([ 29.98892455, -10.03316523]), array([-8.11705387, 30.5632694 ]), array([-26.24896478, -17.63496095]), array([-25.03447428,  19.32032861]), array([ 20.90503184, -23.72719208]), array([ 13.99309628, -28.35830137]), array([28.25648634, 14.1975695 ]), array([-22.54490159,  22.17492757]), array([-19.57382774, -24.83677249]), array([-31.39834636,   3.76083047]), array([14.04891364, 28.33069053]), array([ 8.92020477, 30.33858841]), array([25.66799471, 18.47035592]), array([-19.9690366 , -24.52014636]), array([-14.34947059, -28.17965035]), array([ 27.93571716, -14.81876198]), array([  4.23733051, -31.33759771]), array([15.76987974, 27.41005095]), array([31.17863036, -5.28138322]), array([  8.0043652, -30.5929753]), array([ 23.68259125, -20.95554513]), array([-29.08851344,  12.40396654]), array([ -7.809085  , -30.64340372]), array([-10.92544493, -29.67548909]), array([ 27.63480694, -15.37261999]), array([-31.59603559,   1.30020572]), array([ 2.14192639, 31.55015295]), array([-10.49570959, -29.8301874 ]), array([ 23.01814985, -21.68328336]), array([ 25.81155299, -18.26920174]), array([-20.24847921, -24.28989686]), array([ 7.66147584, 30.68064191]), array([ 27.60065158, -15.43385994]), array([ 25.40373122, -18.83216504]), array([  4.04894016, -31.36249486]), array([12.32157939, 29.12350737]), array([ 12.47796228, -29.05684872]), array([31.32880989,  4.30182181]), array([-25.59357128,  18.57334404]), array([ 6.89147441, 30.86272153]), array([-21.21247829, -23.4527347 ]), array([ 1.5203269 , 31.58620911]), array([-25.19227533,  19.11411164]), array([-28.90493482, -12.82594023]), array([ 20.75590201, -23.85775622]), array([31.49348038,  2.8566928 ]), array([ 1.49668949, 31.58733798]), array([31.42073599, -3.5689424 ]), array([-6.04811439, 31.03901275]), array([22.64165177, 22.07613203]), array([-23.79961088,  20.8225484 ]), array([-25.78943156,  18.30041583]), array([ 23.34124698, -21.33509291]), array([ 29.48220463, -11.43676573]), array([31.62270527, -0.06716737]), array([ -8.28828674, -30.51727876]), array([ 13.83608565, -28.43523754]), array([-14.88424768, -27.90088119]), array([  7.61601846, -30.69195763]), array([ 29.50270833, -11.3837692 ]), array([-24.84772765,  19.55991898]), array([30.69020847, -7.62306395]), array([-8.39956809, 30.48683742]), array([-17.48395169,  26.34979   ]), array([14.46232719, 28.12189702]), array([-19.4435183,  24.9389173]), array([-2.96399392, 31.48356301]), array([ 2.39064157, 31.53228239]), array([29.98417705, 10.04734424]), array([ 25.14538865, -19.17575109]), array([-29.52646521,  11.32200742]), array([18.95992907, 25.30851812]), array([-29.68201149,  10.90771259]), array([-22.77932828,  21.93404211]), array([-14.72312949, -27.98623694]), array([ -4.97969544, -31.22823455]), array([-19.64154443,  24.78325508]), array([-30.69619388,  -7.59892632]), array([-18.27946702,  25.80428425]), array([  0.53269573, -31.61828957]), array([28.79434929, 13.07231612]), array([-29.41398011,  11.61110562]), array([ -2.8643014 , -31.49278929]), array([-18.89111224,  25.35992663]), array([  2.70396227, -31.50696095]), array([  3.46711645, -31.43213489]), array([ 20.32248849, -24.22800986]), array([ 26.1475133 , -17.78503721]), array([18.46713823, 25.6703098 ]), array([-22.0051872 , -22.71060845]), array([-13.7211353 , -28.49088356]), array([ -8.6193672 , -30.42542537]), array([ 25.68811634, -18.44236099]), array([24.57530246, 19.90111829]), array([ 3.03944462, 31.47636854]), array([-31.05434157,   5.9689086 ]), array([-27.36159206, -15.85380963]), array([-30.32468098,   8.96736994]), array([31.35502335, -4.10639873]), array([26.43957049, 17.34788495]), array([19.55641198, 24.85048793]), array([ 19.9956099 , -24.49848127]), array([-22.38075473,  22.34058678]), array([ 3.89430731, 31.38207085]), array([ -1.16221784, -31.60141215]), array([-31.41869231,   3.58688913]), array([-31.55635635,   2.04850524]), array([20.45228772, 24.11853908]), array([ 17.77558392, -26.15394074]), array([ 10.7762499 , -29.72999223]), array([24.38069986, 20.13905346]), array([-10.48008194, -29.83568137]), array([31.14965764, -5.44966321]), array([-7.74936225, 30.65856136]), array([  6.08085875, -31.03261441]), array([-21.1715464 ,  23.48969184]), array([ 17.00491177, -26.66145112]), array([-24.36386801, -20.15941308]), array([29.97820418, 10.06515148]), array([ 29.94099375, -10.17530803]), array([-11.18324952,  29.57929901]), array([-19.02481513,  25.25977849]), array([-14.54538771,  28.07902592]), array([ 12.13372567, -29.2022722 ]), array([ -4.35320188, -31.32171185]), array([ -6.32085659, -30.98462154]), array([-31.35373086,  -4.11625572]), array([31.62073962,  0.35892354]), array([-23.52655424, -21.13057608]), array([-17.31091829, -26.46378861]), array([-5.388312  , 31.16032885]), array([-16.11809319, -27.20674681]), array([-23.66744221,  20.97265313]), array([ -0.48042828, -31.61912694]), array([31.06631758,  5.90626041]), array([ 22.63028596, -22.08778299]), array([24.52799904, 19.95939035]), array([-31.41731473,   3.59893527]), array([ 26.47115078, -17.29965827]), array([ 8.64701279, 30.41757995]), array([23.33247212, 21.34468891]), array([-15.00942376, -27.83374209]), array([24.1889617 , 20.36895019]), array([ 17.82292587, -26.12170196]), array([-27.89871943,  14.88829924]), array([ 24.46803469, -20.03285498]), array([24.71677085, 19.7251423 ]), array([ 11.19637696, -29.5743325 ]), array([-30.7101268 ,   7.54242084]), array([-2.37575873, 31.53340721]), array([-15.39631555, -27.62161233]), array([-31.54516464,  -2.21417879]), array([29.39059959, 11.67016091]), array([ 8.78888749, 30.37689017]), array([-3.87979659, 31.38386812]), array([-27.18616156,  16.15278985]), array([-30.66584312,   7.72049647]), array([ -0.38568757, -31.62042449]), array([ 28.27466103, -14.16133975]), array([-21.77460513,  22.93178082]), array([31.24907195, -4.84721591]), array([-24.90180774, -19.49102284]), array([ 28.54021131, -13.61823551]), array([14.34559753, 28.18162223]), array([-10.67080588, -29.76800131]), array([-12.8936144 , -28.87481095]), array([-15.12813882,  27.76939711]), array([ 24.0621895 , -20.51855347]), array([-28.58260309,  13.52903547]), array([-13.75397394,  28.47504523]), array([-16.50553034, -26.97345859]), array([30.69942539,  7.58586057]), array([-14.45283782, -28.12677513]), array([  4.27795651, -31.33207762]), array([31.3284412 , -4.30450598]), array([-31.47987733,  -3.00288578]), array([-18.77121708,  25.44879976]), array([ 6.81331401, 30.88007047]), array([30.19010511,  9.41050229]), array([-11.1109477 , -29.60653376]), array([-31.43095664,   3.47778154]), array([ 12.92789946, -28.85947705]), array([-7.64029548, 30.68592324]), array([31.4990481,  2.7946321]), array([ -5.48229591, -31.14393089]), array([ 16.46028271, -27.0010943 ]), array([-22.91948751,  21.78754443]), array([28.26125225, 14.18808024]), array([31.62253369, -0.12394679]), array([20.9769901 , 23.66359834]), array([31.62243368, -0.1472696 ]), array([-23.59028416, -21.05940391]), array([-27.11390376,  16.27378945]), array([-14.08449358, -28.31301893]), array([27.7389746 , 15.18384958]), array([-16.84363148,  26.76363351]), array([-11.22246146, -29.56444417]), array([25.96755167, 18.04677977]), array([-23.68161348,  20.95665009]), array([ 26.10753747, -17.84366799]), array([ 8.78576567, 30.37779323]), array([-10.24078035,  29.91866337]), array([-31.54859939,  -2.16468854]), array([-26.35000262,  17.48363125]), array([ 9.64364164, 30.11644361]), array([24.91832772, 19.4698984 ]), array([ 1.47135245, 31.58852833]), array([  3.62155255, -31.41471561]), array([ 9.78919886, 30.06944605]), array([ 1.61339648, 31.58159198]), array([ 1.37732823, 31.59276764]), array([31.60761494, -0.97912083]), array([ 23.53601304, -21.12004001]), array([-12.73245338,  28.9462369 ]), array([-11.18223442, -29.57968278]), array([14.47538739, 28.11517668]), array([ 24.89559196, -19.49896154]), array([31.16796501,  5.34396454]), array([ 14.0265595 , -28.34176474]), array([-21.81798046, -22.89051613]), array([-12.92727786, -28.85975549]), array([-30.69648265,  -7.59775972]), array([ 9.47613841, 30.16956746]), array([31.22959244, -4.97117251]), array([17.39253205, 26.41022205]), array([-30.79012872,  -7.20888158]), array([20.34446215, 24.20956133]), array([-29.00093439,  12.60737104]), array([-31.04576379,   6.01336436]), array([ 19.23713666, -25.09845759]), array([16.49297276, 26.98113878]), array([ 28.49227843, -13.71823858]), array([-16.31912175,  27.08664367]), array([ 8.07893559, 30.57336749]), array([-31.57980899,  -1.64792728]), array([-29.06938492, -12.44872926]), array([-28.5801329 ,  13.53425297]), array([21.20510756, 23.45939925]), array([  1.66659357, -31.57882939]), array([  9.23092514, -30.24549588]), array([ -2.00203841, -31.55933843]), array([-16.17811135, -27.1711007 ]), array([-13.49374151,  28.59928216]), array([20.45294372, 24.11798278]), array([ 26.15220173, -17.77814233]), array([ -4.74113911, -31.26534183]), array([11.33149514, 29.52282537]), array([30.78636543,  7.22493622]), array([  9.81653748, -30.06053213]), array([-20.83026414, -23.79285808]), array([-6.89927765, 30.86097808]), array([ -4.53929312, -31.29528428]), array([-15.2825013 ,  27.68474587]), array([  4.39013834, -31.31655609]), array([-0.87052985, 31.61079211]), array([ 15.13562804, -27.76531584]), array([ 28.76031408, -13.14702758]), array([ 6.35823705, 30.97697244]), array([20.80029158, 23.81906527]), array([-22.59179003,  22.12715579]), array([ 15.57413332, -27.52174361]), array([-20.74798097,  23.86464509]), array([-30.60579232,  -7.95521694]), array([ -7.01104358, -30.83577902]), array([-24.10199609, -20.4717802 ]), array([27.29506327, 15.96807818]), array([-18.28019878,  25.80376586]), array([ 21.19001664, -23.47303122]), array([ -2.84284709, -31.49473322]), array([-22.75472377, -21.95956617]), array([18.41341938, 25.70886981]), array([30.2946425 , -9.06833149]), array([-20.64055937,  23.95761484]), array([-27.13576476, -16.23731108]), array([-13.19004809,  28.74060945]), array([-28.99482887,  12.62140638]), array([-18.77854057, -25.44339627]), array([-5.2034906 , 31.19172463]), array([ -8.31302126, -30.51055027]), array([-30.53897421,   8.20798722]), array([31.24489053, -4.87409641]), array([-31.59853832,   1.23789186]), array([-23.96857193, -20.62783458]), array([ 28.37989146, -13.94925663]), array([-25.2434198 ,  19.04651561]), array([ 24.61071295, -19.85731119]), array([22.85155837, 21.85878039]), array([-15.58870088,  27.51349496]), array([25.19983404, 19.10414522]), array([-4.46121251, 31.30651023]), array([ -2.16847502, -31.54833936]), array([-3.86432193, 31.38577729]), array([-18.80176636,  25.42623806]), array([15.30138489, 27.67431337]), array([-25.00632645, -19.35674656]), array([ 21.66791672, -23.03261568]), array([-26.25800898,  17.62149154]), array([ 11.84037264, -29.3224415 ]), array([19.14582985, 25.16817831]), array([  8.1427351 , -30.55643737]), array([-15.38240095,  27.62936374]), array([16.861126  , 26.75261539]), array([18.83522638, 25.40146152]), array([-27.59988744,  15.43522638]), array([22.80387326, 21.90852264]), array([-17.86120889, -26.09554018]), array([-22.33851738,  22.38282023]), array([31.62268742, -0.07510148]), array([ -8.39604431, -30.48780805]), array([ 21.54204977, -23.15037995]), array([-18.02851282, -25.98023721]), array([-0.89809839, 31.61002087]), array([ 28.73560556, -13.20094592]), array([-11.69784826,  29.37959064]), array([-13.85301524, -28.42699366]), array([-30.90679052,  -6.69106119]), array([-7.21316289, 30.78912602]), array([-2.73017104, 31.5047007 ]), array([-27.23792455,  16.06534987]), array([-25.89020851,  18.15756326]), array([15.13113234, 27.7677661 ]), array([-31.48357191,   2.96389947]), array([19.57145618, 24.83864133]), array([31.59176978, -1.40002933]), array([-31.1151136 ,   5.64355436]), array([21.83784721, 22.87156376]), array([ 25.17688733, -19.13437599]), array([-21.40876237,  23.27369532]), array([  5.69895077, -31.10501503]), array([-27.35181474, -15.87067202]), array([17.79424319, 26.14124919]), array([-30.3302257 ,   8.94859816]), array([ 28.42493171, -13.85724566]), array([-18.34202507, -25.75985474]), array([-17.89991842, -26.06900306]), array([ 12.48588675, -29.05344441]), array([31.61545798,  0.68030633]), array([-8.08487311, 30.5717979 ]), array([ -9.34177164, -30.21144324]), array([ 5.82958488, 31.08079697]), array([-14.63610989, -28.03184417]), array([-29.08623387, -12.409311  ]), array([ 7.98055767, 30.59919442]), array([ -9.1827543 , -30.26015571]), array([ 21.34816031, -23.32929599]), array([30.43364375, -8.59030429]), array([30.95502275,  6.46425297]), array([-20.83953837,  23.78473545]), array([ 4.30132245, 31.32887845]), array([-29.46570803,  11.47920077]), array([ 17.03381735, -26.64299282]), array([-19.15213569,  25.16338011]), array([-18.60068484,  25.57370766]), array([ -8.34657521, -30.5013882 ]), array([-11.89918195,  29.29862572]), array([ 27.00241177, -16.45812135]), array([ 26.89401506, -16.63466122]), array([-3.19098734, 31.46136678]), array([-13.14653027,  28.76054141]), array([ 2.03923446, 31.55695681]), array([-30.99187765,  -6.28518256]), array([-30.69640521,   7.5980726 ]), array([-25.12235569,  19.20591692]), array([-27.81713825,  15.04017351]), array([-24.94713213,  19.43297708]), array([-2.7693353 , 31.50128223]), array([-13.74961997, -28.47714787]), array([ -3.88274017, -31.38350409]), array([-26.07071052,  17.89743146]), array([ 27.19656631, -16.13526514]), array([ -2.85776444, -31.49338315]), array([ -6.01694138, -31.04507073]), array([-26.2519577 ,  17.63050529]), array([-7.27481321, 30.77461767]), array([-21.71939195, -22.98408174]), array([15.53958835, 27.54126348]), array([ 14.42027836, -28.14348188]), array([-19.00780521,  25.27258081]), array([ 23.02635573, -21.67456901]), array([ 0.72836733, 31.61438725]), array([19.09030726, 25.2103187 ]), array([-17.49211475,  26.34437173]), array([-31.2353881 ,   4.93462562]), array([-16.37053311, -27.05560285]), array([ 3.14189702, 31.46630711]), array([ 16.07666488, -27.23124761]), array([ 28.50464782, -13.69251812]), array([31.56726001, -1.87299098]), array([  2.97864147, -31.48218059]), array([30.00794023,  9.9761477 ]), array([-30.9383233 ,  -6.54371082]), array([27.11808093, 16.2668278 ]), array([-26.72477142, -16.90522383]), array([ 1.75447395, 31.57406881]), array([ -7.9283519 , -30.61276263]), array([  5.03937285, -31.21865982]), array([20.28528102, 24.25917093]), array([20.26944501, 24.27240406]), array([-2.49401836, 31.52427434]), array([20.75037494, 23.86256356]), array([ 26.27366456, -17.59814055]), array([  0.63737747, -31.61635257]), array([-14.31202027, -28.19868926]), array([21.57328649, 23.12127397]), array([-31.12489086,   5.58938002]), array([-25.90136425,  18.14164628]), array([ 25.22249716, -19.07421393]), array([-10.0545766 , -29.98175261]), array([-17.89591742,  26.07174984]), array([-27.45180382, -15.69708467]), array([-20.38394263,  24.17632897]), array([-30.59049382,   8.01384352]), array([-30.82488294,   7.05879534]), array([ 15.91008477, -27.32890782]), array([-8.318169  , 30.50914723]), array([ 17.9200242 , -26.05518629]), array([-7.22307571, 30.786802  ]), array([ 26.88824291, -16.6439897 ]), array([31.62116549, -0.31920693]), array([ 10.99853521, -29.64847759]), array([16.45137138, 27.00652476]), array([-28.21567682,  14.27850068]), array([10.94059182, 29.66990817]), array([-22.73714407,  21.97776785]), array([ 18.74371556, -25.46906215]), array([-10.13863796,  29.95343086]), array([-29.95946896,  10.12078156]), array([-24.8334764 ,  19.57800935]), array([27.62498102, 15.39027042]), array([-18.98891615, -25.28677645]), array([  7.21478497, -30.78874596]), array([24.46734561, 20.03369658]), array([28.97794869, 12.66011412]), array([  2.0420989 , -31.55677157]), array([ -4.40838816, -31.3139923 ]), array([ 3.9086704 , 31.38028514]), array([ 8.25238696, 30.52700623]), array([-28.68397024, -13.31277023]), array([-21.76362385, -22.94220296]), array([-22.88327465, -21.8255754 ]), array([ 24.41564154, -20.09667754]), array([ 26.52281723, -17.22034164]), array([30.05427375, -9.83568142]), array([ 0.59581619, 31.61716311]), array([31.60877693,  0.94086178]), array([-29.60204539, -11.1229002 ]), array([ 28.77314909, -13.1189135 ]), array([14.77364076, 27.95960548]), array([-31.44528376,  -3.34576288]), array([28.6962063 , 13.28637437]), array([-18.56290757, -25.60114182]), array([31.4008586 , -3.73979664]), array([16.0941318 , 27.22092801]), array([ 12.09512364, -29.21828168]), array([-29.92300168, -10.22809711]), array([31.48911252,  2.90444356]), array([16.57311705, 26.93198454]), array([10.40911981, 29.8605128 ]), array([ 18.58295646, -25.58659276]), array([  7.38995958, -30.74717056]), array([-20.3428904 ,  24.21088206]), array([-6.51105465, 30.94521235]), array([-21.37096859,  23.3084041 ]), array([-26.86103632,  16.68786168]), array([-1.4061034 , 31.59150002]), array([ -3.51234425, -31.4271131 ]), array([-26.01574556, -17.97723513]), array([23.81012111, 20.81052937]), array([13.4172934 , 28.63522722]), array([ -8.99058264, -30.31780704]), array([31.33148008, -4.28233067]), array([23.76015467, 20.86755975]), array([ -4.26336938, -31.33406583]), array([-31.24207299,   4.8921238 ]), array([ 28.55136868, -13.59482793]), array([17.83999243, 26.11004922]), array([13.01983183, 28.81811894]), array([ 26.58987885, -17.11661015]), array([-21.96768394,  22.74688687]), array([-14.41028917,  28.14859794]), array([  4.35350292, -31.32167001]), array([ 5.46434975, 31.14708464]), array([ 4.56336047, 31.29178393]), array([31.61923151, -0.47349618]), array([ 12.98543376, -28.83363505]), array([-28.50916625,  13.68310783]), array([ 14.9321323, -27.8752834]), array([-29.9437803 ,  10.16710486]), array([ 8.07418624, 30.5746221 ]), array([10.92937632, 29.67404141]), array([ -3.63456553, -31.41321272]), array([ 15.28817263, -27.68161443]), array([-17.06852753, -26.62076948]), array([ 23.37580153, -21.29722759]), array([-15.20190706,  27.7290826 ]), array([-27.78900796, -15.09208522]), array([-30.33857602,  -8.92024693]), array([24.58003964, 19.89526706]), array([-13.84736422, -28.42974682]), array([  8.5169046, -30.4542663]), array([-11.33563758,  29.52123508]), array([-25.01165945, -19.34985508]), array([ 17.03981168, -26.63915948]), array([ 18.81258428, -25.41823504]), array([-24.86243273, -19.54122409]), array([-20.50309638, -24.07536165]), array([20.16554776, 24.35879068]), array([-23.53920171, -21.11648604]), array([ 23.59146421, -21.05808198]), array([31.06398848, -5.91849809]), array([19.58847505, 24.82522196]), array([ 20.59861581, -23.99368722]), array([28.66832401, 13.34643018]), array([ 19.83103566, -24.6318904 ]), array([-24.4159938 , -20.09624957]), array([-25.68116577, -18.45203849]), array([23.51199128, 21.1467791 ]), array([-31.60702318,  -0.99804084]), array([-22.15599158, -22.56351119]), array([-17.63780302,  26.24705516]), array([-22.1588583 , -22.56069588]), array([31.14563656, -5.47259749]), array([-15.98119163,  27.28738746]), array([-10.3521896 ,  29.88029736]), array([-26.79713992, -16.79027373]), array([13.80557832, 28.45006164]), array([-7.12137972, 30.81048443]), array([-28.2020286 ,  14.30543893]), array([19.28326299, 25.0630359 ]), array([12.42575316, 29.07921351]), array([-30.91240209,  -6.66508792]), array([ 7.67683475, 30.67680245]), array([15.7267308 , 27.43483075]), array([-26.96681258, -16.51638638]), array([-11.2092155 , -29.56946885]), array([-26.95835896,  16.53018095]), array([25.7198323 , 18.39810388]), array([-13.34252203, -28.67014311]), array([ 16.4762002 , -26.99138431]), array([ 6.57093911, 30.93255177]), array([-26.52775535,  17.21273354]), array([25.24356844, 19.0463186 ]), array([ 27.65835372, -15.33021427]), array([13.56013113, 28.56786383]), array([21.92806074, 22.78508618]), array([16.88096868, 26.74009904]), array([-17.40923161,  26.39921693])]\n"
          ],
          "name": "stdout"
        }
      ]
    },
    {
      "cell_type": "code",
      "metadata": {
        "id": "xq_YVtb4UrNj",
        "colab_type": "code",
        "colab": {
          "base_uri": "https://localhost:8080/",
          "height": 264
        },
        "outputId": "0187e2d8-af9c-4c57-c090-d0763f7c6036"
      },
      "source": [
        "\n",
        "for i in range(X.shape[0]):\n",
        "  plt.scatter(X__[i][0], X__[i][1], color= 'red')\n",
        "plt.show()"
      ],
      "execution_count": 50,
      "outputs": [
        {
          "output_type": "display_data",
          "data": {
            "image/png": "[encoded data removed]",
            "text/plain": [
              "<Figure size 432x288 with 1 Axes>"
            ]
          },
          "metadata": {
            "tags": [],
            "needs_background": "light"
          }
        }
      ]
    },
    {
      "cell_type": "markdown",
      "metadata": {
        "id": "HDPkOWmQVUQ8",
        "colab_type": "text"
      },
      "source": [
        "##尖度"
      ]
    },
    {
      "cell_type": "code",
      "metadata": {
        "id": "31zS_mqMk9hM",
        "colab_type": "code",
        "outputId": "5af54537-2adb-4911-c5be-d73dfa14acee",
        "colab": {
          "base_uri": "https://localhost:8080/",
          "height": 33
        }
      },
      "source": [
        "difference = 1\n",
        "b  = np.random.uniform(0.08, -0.08, size= (1, 2))\n",
        "print(b)\n",
        "X__ = np.array(kyujouka())\n",
        "while difference > 0.1:\n",
        "  n = X.shape[0]\n",
        "  sum_dif, sum_ = 0, 0\n",
        "  for i in range(X.shape[0]):\n",
        "    a = np.matmul(b, X__[i].T)\n",
        "    g = g_s_3(a[0])\n",
        "    gdif = g_s_3_dif(a[0])\n",
        "    sum_dif += gdif\n",
        "    sum_ += X__[i]*g\n",
        "  b_before = b\n",
        "  b = (sum_dif/n)*b - (sum_/n)\n",
        "  b = b/math.sqrt(np.matmul(b, b.T)[0][0])\n",
        "  difference = abs((b[0][0]) - abs(b_before[0][0]))"
      ],
      "execution_count": 51,
      "outputs": [
        {
          "output_type": "stream",
          "text": [
            "[[-0.06097038 -0.03281476]]\n"
          ],
          "name": "stdout"
        }
      ]
    },
    {
      "cell_type": "code",
      "metadata": {
        "id": "W-OAVI_zvQTZ",
        "colab_type": "code",
        "outputId": "5b4a9efd-8522-4ff7-a98b-987efa7fda8f",
        "colab": {
          "base_uri": "https://localhost:8080/",
          "height": 281
        }
      },
      "source": [
        "y =[]\n",
        "for i in range(X.shape[0]):\n",
        "  a = np.matmul(b, X[i].T)\n",
        "  y.append(a[0])\n",
        "aa = np.histogram(y, bins = 50)\n",
        "a_bins = aa[1]\n",
        "a_hist = aa[0]\n",
        "X1 = []\n",
        "for i in range(1, len(a_bins)):\n",
        "    X1.append((a_bins[i-1]+a_bins[i])/2)\n",
        "plt.bar(X1,a_hist, width=0.08)"
      ],
      "execution_count": 52,
      "outputs": [
        {
          "output_type": "execute_result",
          "data": {
            "text/plain": [
              "<BarContainer object of 50 artists>"
            ]
          },
          "metadata": {
            "tags": []
          },
          "execution_count": 52
        },
        {
          "output_type": "display_data",
          "data": {
            "image/png": "[encoded data removed]",
            "text/plain": [
              "<Figure size 432x288 with 1 Axes>"
            ]
          },
          "metadata": {
            "tags": [],
            "needs_background": "light"
          }
        }
      ]
    },
    {
      "cell_type": "markdown",
      "metadata": {
        "id": "j_IsrluSAP_o",
        "colab_type": "text"
      },
      "source": [
        "##tanh(s)"
      ]
    },
    {
      "cell_type": "code",
      "metadata": {
        "id": "jwdBQ-mq83-N",
        "colab_type": "code",
        "outputId": "75c167f8-e40d-4b39-e5de-5dfdd31b1aca",
        "colab": {
          "base_uri": "https://localhost:8080/",
          "height": 133
        }
      },
      "source": [
        "difference = 1\n",
        "b  = np.random.uniform(0.08, -0.08, size= (1, 2))\n",
        "print(b)\n",
        "X__ = np.array(kyujouka())\n",
        "while difference > 0.1:\n",
        "  n = X.shape[0]\n",
        "  sum_dif, sum_ = 0, 0\n",
        "  for i in range(X.shape[0]):\n",
        "    a = np.matmul(b, X__[i].T)\n",
        "    g = g_tan(a[0])\n",
        "    gdif = g_tan_dif(a[0])\n",
        "    sum_dif += gdif\n",
        "    sum_ += X__[i]*g\n",
        "  b_before = b\n",
        "  b = (sum_dif/n)*b - (sum_/n)\n",
        "  print(np.matmul(b, b.T)[0][0], b)\n",
        "  b = b/math.sqrt(np.matmul(b, b.T)[0][0])\n",
        "  print(b)\n",
        "  difference = abs((b[0][0]) - abs(b_before[0][0]))\n",
        "\n",
        "  print(difference)"
      ],
      "execution_count": 53,
      "outputs": [
        {
          "output_type": "stream",
          "text": [
            "[[ 0.01422308 -0.03098294]]\n",
            "218.29700477878902 [[-5.72412426 13.62099138]]\n",
            "[[-0.38742279  0.92190215]]\n",
            "0.401645867130871\n",
            "473.50180013832636 [[  7.30600539 -20.49692868]]\n",
            "[[ 0.33575244 -0.94195027]]\n",
            "0.05167035505139089\n"
          ],
          "name": "stdout"
        }
      ]
    },
    {
      "cell_type": "code",
      "metadata": {
        "id": "BDInMphrAVr6",
        "colab_type": "code",
        "outputId": "21166e90-d539-41fd-e677-51ccbbb6a759",
        "colab": {
          "base_uri": "https://localhost:8080/",
          "height": 517
        }
      },
      "source": [
        "y =[]\n",
        "for i in range(X.shape[0]):\n",
        "  a = np.matmul(b, X[i].T)\n",
        "  y.append(a[0])\n",
        "aa = np.histogram(y, bins =50)\n",
        "print(aa)\n",
        "a_bins = aa[1]\n",
        "a_hist = aa[0]\n",
        "X1 = []\n",
        "for i in range(1, len(a_bins)):\n",
        "    X1.append((a_bins[i-1]+a_bins[i])/2)\n",
        "plt.bar(X1,a_hist, width=0.05)"
      ],
      "execution_count": 55,
      "outputs": [
        {
          "output_type": "stream",
          "text": [
            "(array([ 5, 16, 14, 23, 23, 20, 21, 22, 31, 26, 20, 16, 31, 25, 23, 24, 14,\n",
            "       20, 22, 21, 19, 16, 22, 16, 18, 21, 22, 25, 20, 23, 22, 22, 25, 22,\n",
            "       13, 19, 25, 17, 30, 17, 24, 17, 22, 27, 25, 13, 16, 11, 12,  2]), array([-1.78452816, -1.71119521, -1.63786225, -1.56452929, -1.49119634,\n",
            "       -1.41786338, -1.34453043, -1.27119747, -1.19786452, -1.12453156,\n",
            "       -1.05119861, -0.97786565, -0.90453269, -0.83119974, -0.75786678,\n",
            "       -0.68453383, -0.61120087, -0.53786792, -0.46453496, -0.391202  ,\n",
            "       -0.31786905, -0.24453609, -0.17120314, -0.09787018, -0.02453723,\n",
            "        0.04879573,  0.12212868,  0.19546164,  0.2687946 ,  0.34212755,\n",
            "        0.41546051,  0.48879346,  0.56212642,  0.63545937,  0.70879233,\n",
            "        0.78212528,  0.85545824,  0.9287912 ,  1.00212415,  1.07545711,\n",
            "        1.14879006,  1.22212302,  1.29545597,  1.36878893,  1.44212189,\n",
            "        1.51545484,  1.5887878 ,  1.66212075,  1.73545371,  1.80878666,\n",
            "        1.88211962]))\n"
          ],
          "name": "stdout"
        },
        {
          "output_type": "execute_result",
          "data": {
            "text/plain": [
              "<BarContainer object of 50 artists>"
            ]
          },
          "metadata": {
            "tags": []
          },
          "execution_count": 55
        },
        {
          "output_type": "display_data",
          "data": {
            "image/png": "[encoded data removed]",
            "text/plain": [
              "<Figure size 432x288 with 1 Axes>"
            ]
          },
          "metadata": {
            "tags": [],
            "needs_background": "light"
          }
        }
      ]
    },
    {
      "cell_type": "code",
      "metadata": {
        "id": "RYkfrhdtAoKy",
        "colab_type": "code",
        "colab": {}
      },
      "source": [
        ""
      ],
      "execution_count": 0,
      "outputs": []
    }
  ]
}